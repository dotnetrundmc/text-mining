{
 "cells": [
  {
   "cell_type": "code",
   "execution_count": null,
   "id": "2278717c",
   "metadata": {},
   "outputs": [],
   "source": [
    "from Bio import Entrez\n",
    "import csv"
   ]
  },
  {
   "cell_type": "code",
   "execution_count": null,
   "id": "2febeec4",
   "metadata": {},
   "outputs": [],
   "source": [
    "Entrez.email = \"your email address here\"\n",
    "search_term = \"gene\"\n",
    "\n",
    "#retmax is number of abstracts to get from pubmed\n",
    "handle = Entrez.esearch(db=\"pubmed\", term=search_term, retmax = 10)\n",
    "record = Entrez.read(handle)\n",
    "handle.close()\n",
    "\n",
    "id_list = record[\"IdList\"]\n",
    "records = Entrez.efetch(db=\"pubmed\", id=id_list, rettype=\"abstract\", retmod=\"xml\")\n",
    "\n",
    "from Bio import Entrez\n",
    "from xml.etree import ElementTree as ET\n",
    "\n",
    "tree = ET.parse(records)\n",
    "root = tree.getroot()\n",
    "\n",
    "abstracts = []\n",
    "\n",
    "for pubmed_article in root.findall(\".//PubmedArticle\"):\n",
    "    abstract = pubmed_article.find(\".//AbstractText\")\n",
    "    if abstract is not None and abstract.text:\n",
    "        abstracts.append(abstract.text)\n",
    "\n",
    "with open(\"pubmedabstracts.csv\", \"w\", newline='', encoding='utf-8') as csvfile:\n",
    "    csv_writer = csv.writer(csvfile)\n",
    "    csv_writer.writerow([\"Pubmed ID\", \"Abstract\"])\n",
    "    for i, abstract in enumerate(abstracts):\n",
    "        csv_writer.writerow([id_list[i], abstract])\n",
    "print(\"abstracts written to file...\")"
   ]
  }
 ],
 "metadata": {
  "kernelspec": {
   "display_name": "Python 3 (ipykernel)",
   "language": "python",
   "name": "python3"
  },
  "language_info": {
   "codemirror_mode": {
    "name": "ipython",
    "version": 3
   },
   "file_extension": ".py",
   "mimetype": "text/x-python",
   "name": "python",
   "nbconvert_exporter": "python",
   "pygments_lexer": "ipython3",
   "version": "3.9.12"
  }
 },
 "nbformat": 4,
 "nbformat_minor": 5
}
